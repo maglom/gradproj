{
 "cells": [
  {
   "cell_type": "code",
   "execution_count": 16,
   "metadata": {},
   "outputs": [],
   "source": [
    "import pandas as pd\n",
    "from weather import make_weather_df\n",
    "\n",
    "df = pd.read_csv('riesling.csv')\n"
   ]
  },
  {
   "cell_type": "code",
   "execution_count": null,
   "metadata": {},
   "outputs": [],
   "source": []
  },
  {
   "cell_type": "code",
   "execution_count": 15,
   "metadata": {},
   "outputs": [
    {
     "ename": "TypeError",
     "evalue": "'str' object cannot be interpreted as an integer",
     "output_type": "error",
     "traceback": [
      "\u001b[1;31m---------------------------------------------------------------------------\u001b[0m",
      "\u001b[1;31mTypeError\u001b[0m                                 Traceback (most recent call last)",
      "Cell \u001b[1;32mIn [15], line 1\u001b[0m\n\u001b[1;32m----> 1\u001b[0m df \u001b[38;5;241m=\u001b[39m \u001b[43mmake_weather_df\u001b[49m\u001b[43m(\u001b[49m\u001b[38;5;124;43m'\u001b[39;49m\u001b[38;5;124;43mmonthly\u001b[39;49m\u001b[38;5;124;43m'\u001b[39;49m\u001b[43m,\u001b[49m\u001b[43m \u001b[49m\u001b[38;5;124;43m'\u001b[39;49m\u001b[38;5;124;43mriesling.csv\u001b[39;49m\u001b[38;5;124;43m'\u001b[39;49m\u001b[43m)\u001b[49m\n",
      "File \u001b[1;32mc:\\Users\\Magnus\\Documents\\Code\\gradproj\\weather\\weather.py:75\u001b[0m, in \u001b[0;36mmake_weather_df\u001b[1;34m(interval, winedata_path)\u001b[0m\n\u001b[0;32m     72\u001b[0m df \u001b[39m=\u001b[39m df\u001b[39m.\u001b[39miloc[:,:\u001b[39m4\u001b[39m]\n\u001b[0;32m     74\u001b[0m \u001b[39mfor\u001b[39;00m index, row \u001b[39min\u001b[39;00m df\u001b[39m.\u001b[39miterrows():\n\u001b[1;32m---> 75\u001b[0m     year \u001b[39m=\u001b[39m \u001b[39mint\u001b[39m(row[\u001b[39m'\u001b[39m\u001b[39mYear\u001b[39m\u001b[39m'\u001b[39m])\n\u001b[0;32m     76\u001b[0m     \u001b[39mprint\u001b[39m(\u001b[39misinstance\u001b[39m(year,\u001b[39mint\u001b[39m))\n\u001b[0;32m     77\u001b[0m     weather \u001b[39m=\u001b[39m get_weather_monthly(\u001b[39mint\u001b[39m(year))\u001b[39m.\u001b[39miloc[\u001b[39m2\u001b[39m,:]\n",
      "File \u001b[1;32mc:\\Users\\Magnus\\Documents\\Code\\gradproj\\weather\\weather.py:8\u001b[0m, in \u001b[0;36mget_weather_monthly\u001b[1;34m(location, year)\u001b[0m\n\u001b[0;32m      7\u001b[0m \u001b[39mdef\u001b[39;00m \u001b[39mget_weather_monthly\u001b[39m(location, year):\n\u001b[1;32m----> 8\u001b[0m     start \u001b[39m=\u001b[39m datetime(year, \u001b[39m4\u001b[39;49m, \u001b[39m1\u001b[39;49m)\n\u001b[0;32m      9\u001b[0m     end \u001b[39m=\u001b[39m datetime(year, \u001b[39m9\u001b[39m, \u001b[39m30\u001b[39m)\n\u001b[0;32m     11\u001b[0m     \u001b[39m# respons = requests.get(\u001b[39;00m\n\u001b[0;32m     12\u001b[0m     \u001b[39m#     f'https://api.opencagedata.com/geocode/v1/json?q={location}&key=555c1da178f94aa4897b0393225d0776&language=en&pretty=1',timeout=10)\u001b[39;00m\n\u001b[0;32m     13\u001b[0m     \u001b[39m# response = respons.json()\u001b[39;00m\n\u001b[0;32m     14\u001b[0m \n\u001b[0;32m     15\u001b[0m     \u001b[39m# longlat = meteostat.Point(\u001b[39;00m\n\u001b[0;32m     16\u001b[0m     \u001b[39m#     response['results'][1]['geometry']['lat'], response['results'][1]['geometry']['lng'])\u001b[39;00m\n",
      "\u001b[1;31mTypeError\u001b[0m: 'str' object cannot be interpreted as an integer"
     ]
    }
   ],
   "source": []
  },
  {
   "cell_type": "code",
   "execution_count": null,
   "metadata": {},
   "outputs": [],
   "source": []
  }
 ],
 "metadata": {
  "kernelspec": {
   "display_name": "Python 3.10.7 64-bit",
   "language": "python",
   "name": "python3"
  },
  "language_info": {
   "codemirror_mode": {
    "name": "ipython",
    "version": 3
   },
   "file_extension": ".py",
   "mimetype": "text/x-python",
   "name": "python",
   "nbconvert_exporter": "python",
   "pygments_lexer": "ipython3",
   "version": "3.10.7"
  },
  "orig_nbformat": 4,
  "vscode": {
   "interpreter": {
    "hash": "7d26a85126ee277a468349481400334cad61288f476e54e45787cfed40e8d857"
   }
  }
 },
 "nbformat": 4,
 "nbformat_minor": 2
}
