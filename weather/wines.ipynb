{
 "cells": [
  {
   "cell_type": "code",
   "execution_count": 1,
   "metadata": {},
   "outputs": [],
   "source": [
    "import pandas as pd\n",
    "import numpy as np\n",
    "from sklearn.preprocessing import OneHotEncoder, OrdinalEncoder\n",
    "from sklearn.preprocessing import MinMaxScaler\n",
    "from sklearn.model_selection import train_test_split\n",
    "from sklearn.metrics import confusion_matrix, accuracy_score\n",
    "from sklearn.linear_model import LogisticRegression,LinearRegression\n",
    "from sklearn.metrics import confusion_matrix\n",
    "from sklearn.metrics import mean_squared_error\n",
    "from sklearn.metrics import mean_absolute_error"
   ]
  },
  {
   "cell_type": "code",
   "execution_count": 2,
   "metadata": {},
   "outputs": [],
   "source": [
    "\n",
    "data=pd.read_csv(\"wineandweather.csv\")\n",
    "\n"
   ]
  },
  {
   "cell_type": "code",
   "execution_count": 3,
   "metadata": {},
   "outputs": [
    {
     "name": "stderr",
     "output_type": "stream",
     "text": [
      "C:\\Users\\magnu\\AppData\\Local\\Temp\\ipykernel_15440\\3431162678.py:3: FutureWarning: The default value of regex will change from True to False in a future version.\n",
      "  data['Name'] = data['Name'].str.replace('\\d+', '')\n"
     ]
    }
   ],
   "source": [
    "data.drop(['Region', 'Year'], axis=1, inplace=True)\n",
    "data = data[data.Rating != 0]\n",
    "data['Name'] = data['Name'].str.replace('\\d+', '')"
   ]
  },
  {
   "cell_type": "code",
   "execution_count": 4,
   "metadata": {},
   "outputs": [],
   "source": [
    "#scalere ejection_fraction, serum_creatinine, serum_soium så de får en tall som fungerer bedre med de andre tallenescaler=MinMaxScaler()\n",
    "X = [column for column in data.columns if column != 'Rating']\n",
    "y = 'Rating'\n",
    "encode = OrdinalEncoder()\n",
    "data['Name'] = encode.fit_transform(data[['Name']])\n",
    "scaler=MinMaxScaler()\n",
    "data[X]=scaler.fit_transform(data[X])\n",
    "\n",
    "#data.drop(\"ejection_fraction\", inplace=True, axis=1)\n",
    "#data.drop(\"serum_creatinine\", inplace=True, axis=1)\n",
    "#data.drop(\"serum_sodium\", inplace=True, axis=1)"
   ]
  },
  {
   "cell_type": "code",
   "execution_count": 5,
   "metadata": {},
   "outputs": [],
   "source": [
    "\n",
    "X = data[X]\n",
    "y = data[y]\n",
    "\n",
    "X_train, X_test, y_train, y_test = train_test_split(X, y, test_size = 0.2)\n"
   ]
  },
  {
   "cell_type": "code",
   "execution_count": 6,
   "metadata": {},
   "outputs": [],
   "source": [
    "def naive_model(df):\n",
    "    group = df.groupby('Name')['Rating'].mean().reset_index()\n",
    "    dic = {}\n",
    "    for index, row in group.iterrows():\n",
    "        dic[row['Name']] = row['Rating']\n",
    "\n",
    "    y_test_naive = []\n",
    "    for index, row in X_test.iterrows():\n",
    "        name = row['Name']\n",
    "        rating = dic[name]\n",
    "        y_test_naive.append(rating)\n",
    "    return y_test_naive\n",
    "\n",
    "y_test_naive = naive_model(data)"
   ]
  },
  {
   "cell_type": "code",
   "execution_count": 7,
   "metadata": {},
   "outputs": [
    {
     "name": "stdout",
     "output_type": "stream",
     "text": [
      "The test MSE is : 4.520199337315955\n",
      "The test naiv MSE is : 2.333678241317473\n"
     ]
    }
   ],
   "source": [
    "lin_model = LinearRegression()\n",
    "lin_model.fit (X_train, y_train)\n",
    "\n",
    "y_test_pred_r = lin_model.predict(X_test)\n",
    "\n",
    "test_mse = mean_squared_error(y_test, y_test_pred_r)\n",
    "test_naiv_mse = mean_squared_error(y_test, y_test_naive)\n",
    "\n",
    "\n",
    "print (f\"The test MSE is : {test_mse}\")\n",
    "print (f\"The test naiv MSE is : {test_naiv_mse}\")"
   ]
  },
  {
   "cell_type": "code",
   "execution_count": 9,
   "metadata": {},
   "outputs": [
    {
     "name": "stdout",
     "output_type": "stream",
     "text": [
      "The test MAE is : 1.6477339068050156\n",
      "The test naiv MAE is: 0.7354435125352979\n"
     ]
    }
   ],
   "source": [
    "test_mae = mean_absolute_error(y_test, y_test_pred_r)\n",
    "test_naiv_mae = mean_absolute_error(y_test, y_test_naive)\n",
    "\n",
    "print (f\"The test MAE is : {test_mae}\")\n",
    "print (f\"The test naiv MAE is: {test_naiv_mae}\")"
   ]
  },
  {
   "cell_type": "code",
   "execution_count": null,
   "metadata": {},
   "outputs": [],
   "source": []
  }
 ],
 "metadata": {
  "kernelspec": {
   "display_name": "Python 3.10.2 64-bit",
   "language": "python",
   "name": "python3"
  },
  "language_info": {
   "codemirror_mode": {
    "name": "ipython",
    "version": 3
   },
   "file_extension": ".py",
   "mimetype": "text/x-python",
   "name": "python",
   "nbconvert_exporter": "python",
   "pygments_lexer": "ipython3",
   "version": "3.10.2"
  },
  "orig_nbformat": 4,
  "vscode": {
   "interpreter": {
    "hash": "a74f7ce21f6bee90c696f81c1b05feea5b0771b1a6bf085ce5fd8f9cc559567a"
   }
  }
 },
 "nbformat": 4,
 "nbformat_minor": 2
}
