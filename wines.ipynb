{
 "cells": [
  {
   "cell_type": "code",
   "execution_count": 1,
   "metadata": {},
   "outputs": [],
   "source": [
    "import pandas as pd\n",
    "import numpy as np\n",
    "from sklearn.preprocessing import OneHotEncoder\n",
    "from sklearn.preprocessing import MinMaxScaler\n",
    "from sklearn.model_selection import train_test_split\n",
    "from sklearn.metrics import confusion_matrix, accuracy_score\n",
    "from sklearn.linear_model import LogisticRegression,LinearRegression\n",
    "from sklearn.metrics import confusion_matrix\n",
    "from sklearn.metrics import mean_squared_error\n",
    "from sklearn.metrics import mean_absolute_error"
   ]
  },
  {
   "cell_type": "code",
   "execution_count": 2,
   "metadata": {},
   "outputs": [],
   "source": [
    "\n",
    "data=pd.read_csv(\"wineandweather.csv\")\n",
    "\n"
   ]
  },
  {
   "cell_type": "code",
   "execution_count": null,
   "metadata": {},
   "outputs": [],
   "source": []
  },
  {
   "cell_type": "code",
   "execution_count": 6,
   "metadata": {},
   "outputs": [],
   "source": [
    "data.drop(['Name', 'Region'], axis=1, inplace=True)"
   ]
  },
  {
   "cell_type": "code",
   "execution_count": 12,
   "metadata": {},
   "outputs": [],
   "source": [
    "#scalere ejection_fraction, serum_creatinine, serum_soium så de får en tall som fungerer bedre med de andre tallenescaler=MinMaxScaler()\n",
    "X = [column for column in data.columns if column != 'Rating']\n",
    "y = 'Rating'\n",
    "# scaler=MinMaxScaler()\n",
    "# data[X]=scaler.fit_transform(data[X])\n",
    "\n",
    "#data.drop(\"ejection_fraction\", inplace=True, axis=1)\n",
    "#data.drop(\"serum_creatinine\", inplace=True, axis=1)\n",
    "#data.drop(\"serum_sodium\", inplace=True, axis=1)"
   ]
  },
  {
   "cell_type": "code",
   "execution_count": null,
   "metadata": {},
   "outputs": [],
   "source": [
    "data.head()"
   ]
  },
  {
   "cell_type": "code",
   "execution_count": 14,
   "metadata": {},
   "outputs": [],
   "source": [
    "\n",
    "X = np.c_[data[X]]\n",
    "y = np.c_[data[y]]\n",
    "\n",
    "X_train, X_test, y_train, y_test = train_test_split(X, y, test_size = 0.2)\n"
   ]
  },
  {
   "cell_type": "code",
   "execution_count": 15,
   "metadata": {},
   "outputs": [
    {
     "name": "stdout",
     "output_type": "stream",
     "text": [
      "The test MSE is : 606.8340947624215\n",
      "The test naiv MSE is : 636.7171450525481\n"
     ]
    }
   ],
   "source": [
    "lin_model = LinearRegression()\n",
    "lin_model.fit (X_train, y_train)\n",
    "\n",
    "y_test_pred_r = lin_model.predict(X_test)\n",
    "\n",
    "y_test_naive_pred_r = np.full(y_test.shape, np.mean(y_train))\n",
    "\n",
    "test_mse = mean_squared_error(y_test, y_test_pred_r)\n",
    "test_naiv_mse = mean_squared_error(y_test, y_test_naive_pred_r)\n",
    "\n",
    "\n",
    "print (f\"The test MSE is : {test_mse}\")\n",
    "print (f\"The test naiv MSE is : {test_naiv_mse}\")"
   ]
  },
  {
   "cell_type": "code",
   "execution_count": 16,
   "metadata": {},
   "outputs": [
    {
     "name": "stdout",
     "output_type": "stream",
     "text": [
      "The test MAE is : 12.253742219059484\n",
      "The test naiv MAE is: 11.887533875338749\n"
     ]
    }
   ],
   "source": [
    "test_mae = mean_absolute_error(y_test, y_test_pred_r)\n",
    "test_naiv_mae = mean_absolute_error(y_test, y_test_naive_pred_r)\n",
    "\n",
    "print (f\"The test MAE is : {test_mae}\")\n",
    "print (f\"The test naiv MAE is: {test_naiv_mae}\")"
   ]
  },
  {
   "cell_type": "code",
   "execution_count": null,
   "metadata": {},
   "outputs": [],
   "source": []
  }
 ],
 "metadata": {
  "kernelspec": {
   "display_name": "Python 3.10.7 64-bit",
   "language": "python",
   "name": "python3"
  },
  "language_info": {
   "codemirror_mode": {
    "name": "ipython",
    "version": 3
   },
   "file_extension": ".py",
   "mimetype": "text/x-python",
   "name": "python",
   "nbconvert_exporter": "python",
   "pygments_lexer": "ipython3",
   "version": "3.10.7"
  },
  "orig_nbformat": 4,
  "vscode": {
   "interpreter": {
    "hash": "7d26a85126ee277a468349481400334cad61288f476e54e45787cfed40e8d857"
   }
  }
 },
 "nbformat": 4,
 "nbformat_minor": 2
}
