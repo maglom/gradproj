{
 "cells": [
  {
   "cell_type": "code",
   "execution_count": 62,
   "metadata": {},
   "outputs": [],
   "source": [
    "# import library\n",
    "from bs4 import BeautifulSoup\n",
    "import requests\n",
    "from selenium import webdriver\n",
    "from selenium.webdriver.chrome.options import Options\n",
    "import time\n",
    "import csv\n",
    "import pandas as pd"
   ]
  },
  {
   "cell_type": "code",
   "execution_count": null,
   "metadata": {},
   "outputs": [],
   "source": [
    "# Request to website and download HTML contents\n",
    "#agent = {\"User-Agent\":'Mozilla/5.0 (Windows NT 10.0; Win64; x64) AppleWebKit/537.36 (KHTML, like Gecko) Chrome/77.0.3865.90 Safari/537.36'}\n",
    "wines = {}\n",
    "\n",
    "#url = 'https://www.wine-searcher.com/find/bordeaux/2021'\n",
    "#req = requests.get(url, headers=agent)\n",
    "#content = req.text\n",
    "\n"
   ]
  },
  {
   "cell_type": "code",
   "execution_count": 65,
   "metadata": {},
   "outputs": [
    {
     "name": "stderr",
     "output_type": "stream",
     "text": [
      "C:\\Users\\magnu\\AppData\\Local\\Temp\\ipykernel_6452\\986211657.py:5: DeprecationWarning: executable_path has been deprecated, please pass in a Service object\n",
      "  driver = webdriver.Chrome(options=options, executable_path=DRIVER_PATH)\n"
     ]
    }
   ],
   "source": [
    "\n",
    "DRIVER_PATH = r'C:\\Users\\magnu\\Downloads\\chromedriver_win32/chromedriver.exe'\n",
    "options = Options()\n",
    "options.headless = False\n",
    "options.add_argument(\"--window-size=1920,1200\")\n",
    "driver = webdriver.Chrome(options=options, executable_path=DRIVER_PATH)\n"
   ]
  },
  {
   "cell_type": "code",
   "execution_count": 66,
   "metadata": {},
   "outputs": [
    {
     "ename": "WebDriverException",
     "evalue": "Message: chrome not reachable\n  (Session info: chrome=105.0.5195.102)\nStacktrace:\nBacktrace:\n\tOrdinal0 [0x002ADF13+2219795]\n\tOrdinal0 [0x00242841+1779777]\n\tOrdinal0 [0x00154100+803072]\n\tOrdinal0 [0x00149BF2+760818]\n\tOrdinal0 [0x0013CD35+707893]\n\tOrdinal0 [0x00141122+725282]\n\tOrdinal0 [0x00145699+743065]\n\tOrdinal0 [0x00155610+808464]\n\tOrdinal0 [0x001AE93A+1173818]\n\tOrdinal0 [0x0019E616+1107478]\n\tOrdinal0 [0x00177F89+950153]\n\tOrdinal0 [0x00178F56+954198]\n\tGetHandleVerifier [0x005A2CB2+3040210]\n\tGetHandleVerifier [0x00592BB4+2974420]\n\tGetHandleVerifier [0x00346A0A+565546]\n\tGetHandleVerifier [0x00345680+560544]\n\tOrdinal0 [0x00249A5C+1808988]\n\tOrdinal0 [0x0024E3A8+1827752]\n\tOrdinal0 [0x0024E495+1827989]\n\tOrdinal0 [0x002580A4+1867940]\n\tBaseThreadInitThunk [0x776FFA29+25]\n\tRtlGetAppContainerNamedObjectPath [0x77DF7A9E+286]\n\tRtlGetAppContainerNamedObjectPath [0x77DF7A6E+238]\n\t(No symbol) [0x00000000]\n",
     "output_type": "error",
     "traceback": [
      "\u001b[1;31m---------------------------------------------------------------------------\u001b[0m",
      "\u001b[1;31mWebDriverException\u001b[0m                        Traceback (most recent call last)",
      "\u001b[1;32mc:\\Users\\magnu\\Documents\\pythin\\gradpro\\scra.ipynb Cell 4\u001b[0m in \u001b[0;36m<cell line: 1>\u001b[1;34m()\u001b[0m\n\u001b[0;32m      <a href='vscode-notebook-cell:/c%3A/Users/magnu/Documents/pythin/gradpro/scra.ipynb#W3sZmlsZQ%3D%3D?line=0'>1</a>\u001b[0m \u001b[39mfor\u001b[39;00m i \u001b[39min\u001b[39;00m \u001b[39mrange\u001b[39m(\u001b[39m2010\u001b[39m,\u001b[39m2022\u001b[39m):\n\u001b[1;32m----> <a href='vscode-notebook-cell:/c%3A/Users/magnu/Documents/pythin/gradpro/scra.ipynb#W3sZmlsZQ%3D%3D?line=1'>2</a>\u001b[0m     driver\u001b[39m.\u001b[39;49mget(\u001b[39mf\u001b[39;49m\u001b[39m\"\u001b[39;49m\u001b[39mhttps://www.wine-searcher.com/find/bordeaux/\u001b[39;49m\u001b[39m{\u001b[39;49;00mi\u001b[39m}\u001b[39;49;00m\u001b[39m\"\u001b[39;49m)\n\u001b[0;32m      <a href='vscode-notebook-cell:/c%3A/Users/magnu/Documents/pythin/gradpro/scra.ipynb#W3sZmlsZQ%3D%3D?line=2'>3</a>\u001b[0m     soup \u001b[39m=\u001b[39m BeautifulSoup(driver\u001b[39m.\u001b[39mpage_source)\n\u001b[0;32m      <a href='vscode-notebook-cell:/c%3A/Users/magnu/Documents/pythin/gradpro/scra.ipynb#W3sZmlsZQ%3D%3D?line=3'>4</a>\u001b[0m     \u001b[39mprint\u001b[39m(\u001b[39m'\u001b[39m\u001b[39mFinding wines\u001b[39m\u001b[39m'\u001b[39m)\n",
      "File \u001b[1;32mc:\\Users\\magnu\\AppData\\Local\\Programs\\Python\\Python310\\lib\\site-packages\\selenium\\webdriver\\remote\\webdriver.py:440\u001b[0m, in \u001b[0;36mWebDriver.get\u001b[1;34m(self, url)\u001b[0m\n\u001b[0;32m    436\u001b[0m \u001b[39mdef\u001b[39;00m \u001b[39mget\u001b[39m(\u001b[39mself\u001b[39m, url: \u001b[39mstr\u001b[39m) \u001b[39m-\u001b[39m\u001b[39m>\u001b[39m \u001b[39mNone\u001b[39;00m:\n\u001b[0;32m    437\u001b[0m     \u001b[39m\"\"\"\u001b[39;00m\n\u001b[0;32m    438\u001b[0m \u001b[39m    Loads a web page in the current browser session.\u001b[39;00m\n\u001b[0;32m    439\u001b[0m \u001b[39m    \"\"\"\u001b[39;00m\n\u001b[1;32m--> 440\u001b[0m     \u001b[39mself\u001b[39;49m\u001b[39m.\u001b[39;49mexecute(Command\u001b[39m.\u001b[39;49mGET, {\u001b[39m'\u001b[39;49m\u001b[39murl\u001b[39;49m\u001b[39m'\u001b[39;49m: url})\n",
      "File \u001b[1;32mc:\\Users\\magnu\\AppData\\Local\\Programs\\Python\\Python310\\lib\\site-packages\\selenium\\webdriver\\remote\\webdriver.py:428\u001b[0m, in \u001b[0;36mWebDriver.execute\u001b[1;34m(self, driver_command, params)\u001b[0m\n\u001b[0;32m    426\u001b[0m response \u001b[39m=\u001b[39m \u001b[39mself\u001b[39m\u001b[39m.\u001b[39mcommand_executor\u001b[39m.\u001b[39mexecute(driver_command, params)\n\u001b[0;32m    427\u001b[0m \u001b[39mif\u001b[39;00m response:\n\u001b[1;32m--> 428\u001b[0m     \u001b[39mself\u001b[39;49m\u001b[39m.\u001b[39;49merror_handler\u001b[39m.\u001b[39;49mcheck_response(response)\n\u001b[0;32m    429\u001b[0m     response[\u001b[39m'\u001b[39m\u001b[39mvalue\u001b[39m\u001b[39m'\u001b[39m] \u001b[39m=\u001b[39m \u001b[39mself\u001b[39m\u001b[39m.\u001b[39m_unwrap_value(\n\u001b[0;32m    430\u001b[0m         response\u001b[39m.\u001b[39mget(\u001b[39m'\u001b[39m\u001b[39mvalue\u001b[39m\u001b[39m'\u001b[39m, \u001b[39mNone\u001b[39;00m))\n\u001b[0;32m    431\u001b[0m     \u001b[39mreturn\u001b[39;00m response\n",
      "File \u001b[1;32mc:\\Users\\magnu\\AppData\\Local\\Programs\\Python\\Python310\\lib\\site-packages\\selenium\\webdriver\\remote\\errorhandler.py:243\u001b[0m, in \u001b[0;36mErrorHandler.check_response\u001b[1;34m(self, response)\u001b[0m\n\u001b[0;32m    241\u001b[0m         alert_text \u001b[39m=\u001b[39m value[\u001b[39m'\u001b[39m\u001b[39malert\u001b[39m\u001b[39m'\u001b[39m]\u001b[39m.\u001b[39mget(\u001b[39m'\u001b[39m\u001b[39mtext\u001b[39m\u001b[39m'\u001b[39m)\n\u001b[0;32m    242\u001b[0m     \u001b[39mraise\u001b[39;00m exception_class(message, screen, stacktrace, alert_text)  \u001b[39m# type: ignore[call-arg]  # mypy is not smart enough here\u001b[39;00m\n\u001b[1;32m--> 243\u001b[0m \u001b[39mraise\u001b[39;00m exception_class(message, screen, stacktrace)\n",
      "\u001b[1;31mWebDriverException\u001b[0m: Message: chrome not reachable\n  (Session info: chrome=105.0.5195.102)\nStacktrace:\nBacktrace:\n\tOrdinal0 [0x002ADF13+2219795]\n\tOrdinal0 [0x00242841+1779777]\n\tOrdinal0 [0x00154100+803072]\n\tOrdinal0 [0x00149BF2+760818]\n\tOrdinal0 [0x0013CD35+707893]\n\tOrdinal0 [0x00141122+725282]\n\tOrdinal0 [0x00145699+743065]\n\tOrdinal0 [0x00155610+808464]\n\tOrdinal0 [0x001AE93A+1173818]\n\tOrdinal0 [0x0019E616+1107478]\n\tOrdinal0 [0x00177F89+950153]\n\tOrdinal0 [0x00178F56+954198]\n\tGetHandleVerifier [0x005A2CB2+3040210]\n\tGetHandleVerifier [0x00592BB4+2974420]\n\tGetHandleVerifier [0x00346A0A+565546]\n\tGetHandleVerifier [0x00345680+560544]\n\tOrdinal0 [0x00249A5C+1808988]\n\tOrdinal0 [0x0024E3A8+1827752]\n\tOrdinal0 [0x0024E495+1827989]\n\tOrdinal0 [0x002580A4+1867940]\n\tBaseThreadInitThunk [0x776FFA29+25]\n\tRtlGetAppContainerNamedObjectPath [0x77DF7A9E+286]\n\tRtlGetAppContainerNamedObjectPath [0x77DF7A6E+238]\n\t(No symbol) [0x00000000]\n"
     ]
    }
   ],
   "source": [
    "for i in range(2010,2022):\n",
    "    driver.get(f\"https://www.wine-searcher.com/find/bordeaux/{i}\")\n",
    "    soup = BeautifulSoup(driver.page_source)\n",
    "    print('Finding wines')\n",
    "    cards = soup.findAll(class_='card card-product')\n",
    "\n",
    "    print('Looping through wines')\n",
    "    for i in cards:\n",
    "        name = i.find(class_='card-product__name')\n",
    "        rating = i.find(class_='badge-rating badge badge-pill')\n",
    "        try:\n",
    "            wines[name.text.replace(\"\\n\", \"\")] = rating.text.split('/')[0]\n",
    "        except:\n",
    "            wines[name.text.replace(\"\\n\", \"\")] = 0\n",
    "    print(wines)\n"
   ]
  },
  {
   "cell_type": "code",
   "execution_count": 63,
   "metadata": {},
   "outputs": [],
   "source": [
    "df = pd.DataFrame({'Wines': list(wines.keys()), 'Points': list(wines.values())})"
   ]
  },
  {
   "cell_type": "code",
   "execution_count": 68,
   "metadata": {},
   "outputs": [],
   "source": [
    "df.to_csv('data.csv',index=False)"
   ]
  },
  {
   "cell_type": "code",
   "execution_count": null,
   "metadata": {},
   "outputs": [],
   "source": []
  }
 ],
 "metadata": {
  "kernelspec": {
   "display_name": "Python 3.10.2 64-bit",
   "language": "python",
   "name": "python3"
  },
  "language_info": {
   "codemirror_mode": {
    "name": "ipython",
    "version": 3
   },
   "file_extension": ".py",
   "mimetype": "text/x-python",
   "name": "python",
   "nbconvert_exporter": "python",
   "pygments_lexer": "ipython3",
   "version": "3.10.2"
  },
  "orig_nbformat": 4,
  "vscode": {
   "interpreter": {
    "hash": "a74f7ce21f6bee90c696f81c1b05feea5b0771b1a6bf085ce5fd8f9cc559567a"
   }
  }
 },
 "nbformat": 4,
 "nbformat_minor": 2
}
