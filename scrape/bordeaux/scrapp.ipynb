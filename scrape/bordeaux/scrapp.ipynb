{
 "cells": [
  {
   "cell_type": "code",
   "execution_count": null,
   "metadata": {},
   "outputs": [],
   "source": [
    "# import library\n",
    "from bs4 import BeautifulSoup\n",
    "import requests\n",
    "from selenium import webdriver\n",
    "from selenium.webdriver.chrome.options import Options\n",
    "import pandas as pd\n",
    "import time\n",
    "\n",
    "\n",
    "header = {\n",
    "    \"Accept\": r\"text/html,application/xhtml+xml,application/xml;q=0.9,image/webp,image/apng,*/*;q=0.8,application/signed-exchange;v=b3;q=0.9\",\n",
    "    \"Accept-Encoding\": \"gzip, deflate\",\n",
    "    \"Accept-Language\": r\"en-GB,en-US;q=0.9,en;q=0.8\",\n",
    "    \"User-Agent\": r\"Mozilla/5.0 (Macintosh; Intel Mac OS X 10_15_4) AppleWebKit/537.36 (KHTML, like Gecko) Chrome/83.0.4103.97 Safari/537.36\"\n",
    "}\n",
    "\n",
    "wines = {}\n",
    "\n",
    "# url = 'https://www.wine-searcher.com/find/riesling/2021'\n",
    "# req = requests.get(url, headers=agent)\n",
    "# content = req.text\n",
    "\n",
    "\n",
    "# DRIVER_PATH = r'/Users/magnusgreve/Downloads/chromedriver'\n",
    "# options = Options()\n",
    "# options.add_argument(\"--user-data-dir=chrome-data\")\n",
    "# options.headless = False\n",
    "# options.add_argument(\"--window-size=1920,1200\")\n",
    "# driver = webdriver.Chrome(options=options, executable_path=DRIVER_PATH)\n",
    "# time.sleep(5)\n",
    "\n",
    "def get_wines(year_start, year_end, region):\n",
    "    for i in range(year_start, year_end):\n",
    "        response = requests.get(\n",
    "            f\"http://api.scraperapi.com?api_key=c66b14a4fe90203815e58f35e25605a0&url=https://www.wine-searcher.com/find/{region}/{i}\")\n",
    "        if not response.ok:\n",
    "            print(response.status_code,\n",
    "                response.text)\n",
    "            break\n",
    "        else:\n",
    "            soup = BeautifulSoup(response.text)\n",
    "            print('Finding wines')\n",
    "            cards = soup.findAll(class_='card card-product')\n",
    "            print('Looping through wines')\n",
    "            for i in cards:\n",
    "                name = i.find(class_='card-product__name')\n",
    "                rating = i.find(class_='badge-rating badge badge-pill')\n",
    "                try:\n",
    "                    wines[name.text.replace(\n",
    "                        \"\\n\", \"\")] = rating.text.split('/')[0]\n",
    "                except:\n",
    "                    wines[name.text.replace(\"\\n\", \"\")] = 0\n",
    "            print(wines)\n",
    "            time.sleep(5)\n",
    "    \n",
    "    df = pd.DataFrame({'Wines': list(wines.keys()), 'Points': list(wines.values())})\n",
    "    df['Year'] = df.loc[:,'Wines'].str[:5]\n",
    "    df['Wines'] = df.loc[:,'Wines'].str[5:]\n",
    "    return df\n",
    "\n",
    "\n",
    "df = get_wines(2000, 2022, 'bordeaux')\n",
    "\n",
    "df.to_csv('Bordueax.csv', index=False)\n",
    "\n"
   ]
  },
  {
   "cell_type": "code",
   "execution_count": 43,
   "metadata": {},
   "outputs": [],
   "source": []
  },
  {
   "cell_type": "code",
   "execution_count": 41,
   "metadata": {},
   "outputs": [],
   "source": []
  },
  {
   "cell_type": "code",
   "execution_count": null,
   "metadata": {},
   "outputs": [],
   "source": []
  }
 ],
 "metadata": {
  "kernelspec": {
   "display_name": "Python 3.9.1 64-bit",
   "language": "python",
   "name": "python3"
  },
  "language_info": {
   "codemirror_mode": {
    "name": "ipython",
    "version": 3
   },
   "file_extension": ".py",
   "mimetype": "text/x-python",
   "name": "python",
   "nbconvert_exporter": "python",
   "pygments_lexer": "ipython3",
   "version": "3.9.1"
  },
  "orig_nbformat": 4,
  "vscode": {
   "interpreter": {
    "hash": "397704579725e15f5c7cb49fe5f0341eb7531c82d19f2c29d197e8b64ab5776b"
   }
  }
 },
 "nbformat": 4,
 "nbformat_minor": 2
}
