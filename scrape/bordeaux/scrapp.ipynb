{
 "cells": [
  {
   "cell_type": "code",
   "execution_count": null,
   "metadata": {},
   "outputs": [],
   "source": [
    "# import library\n",
    "from bs4 import BeautifulSoup\n",
    "import requests\n",
    "import pandas as pd\n",
    "import time\n",
    "\n",
    "\n",
    "def get_wines(year_start, year_end, region):\n",
    "    wines = []\n",
    "    for year in range(year_start, year_end):\n",
    "        response = requests.get(\n",
    "            f\"http://api.scraperapi.com?api_key=c66b14a4fe90203815e58f35e25605a0&url=https://www.wine-searcher.com/find/{region}/{year}\")\n",
    "        if not response.ok:\n",
    "            print(response.status_code,\n",
    "                  response.text)\n",
    "            break\n",
    "        else:\n",
    "            soup = BeautifulSoup(response.text)\n",
    "            print('Finding wines')\n",
    "            cards = soup.findAll(class_='card card-product')\n",
    "            print('Looping through wines')\n",
    "            for i in cards:\n",
    "                name = i.find(class_='card-product__name')\n",
    "                name = name.text.strip()\n",
    "                rating = i.find(class_='badge-rating badge badge-pill')\n",
    "                try:\n",
    "                    rating = rating.text.split('/')[0]\n",
    "                except:\n",
    "                    rating = 0\n",
    "                region = i.find(class_='card-product__region').text\n",
    "                region = region\n",
    "\n",
    "                wines.append([name, rating, region, year])\n",
    "\n",
    "            print(wines)\n",
    "\n",
    "    df = pd.DataFrame(wines, columns=['Name', 'Rating', 'Region', 'Year'])\n",
    "    return df\n",
    "\n",
    "\n",
    "df = get_wines(1950, 2022, 'bordeaux')\n"
   ]
  },
  {
   "cell_type": "code",
   "execution_count": 56,
   "metadata": {},
   "outputs": [],
   "source": [
    "\n",
    "df.to_csv(f'bordeaux.csv', index=False)\n"
   ]
  }
 ],
 "metadata": {
  "kernelspec": {
   "display_name": "Python 3.9.1 64-bit",
   "language": "python",
   "name": "python3"
  },
  "language_info": {
   "codemirror_mode": {
    "name": "ipython",
    "version": 3
   },
   "file_extension": ".py",
   "mimetype": "text/x-python",
   "name": "python",
   "nbconvert_exporter": "python",
   "pygments_lexer": "ipython3",
   "version": "3.9.1"
  },
  "orig_nbformat": 4,
  "vscode": {
   "interpreter": {
    "hash": "397704579725e15f5c7cb49fe5f0341eb7531c82d19f2c29d197e8b64ab5776b"
   }
  }
 },
 "nbformat": 4,
 "nbformat_minor": 2
}
