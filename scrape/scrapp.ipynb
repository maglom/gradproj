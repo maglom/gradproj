{
 "cells": [
  {
   "cell_type": "code",
   "execution_count": 3,
   "metadata": {},
   "outputs": [
    {
     "name": "stdout",
     "output_type": "stream",
     "text": [
      "Finding wines\n",
      "Looping through wines\n",
      "{'2017 Chateau Mouton Rothschild': '95 ', '2017 Petrus': '96 ', '2017 Chateau Haut-Brion': '95 ', '2017 Chateau Lynch-Bages': '93 ', '2017 Chateau Cheval Blanc': '95 ', '2017 Chateau Pichon Longueville Comtesse de Lalande': '95 ', \"2017 Chateau Leoville-Las Cases 'Grand Vin de Leoville'\": '95 ', '2017 Chateau Montrose': '94 ', '2017 Chateau Palmer': '95 ', '2017 Chateau Ducru-Beaucaillou': '95 ', '2017 Chateau Leoville Poyferre': '94 ', '2017 Chateau Pichon-Longueville au Baron de Pichon-Longueville': '94 ', '2017 Chateau La Mission Haut-Brion': '95 ', '2017 Chateau Leoville Barton': '94 ', '2017 Chateau Figeac': '95 ', '2017 Chateau Talbot': '91 ', '2017 Chateau Calon-Segur': '94 ', '2017 Chateau Lafleur': '97 ', '2017 Chateau Ausone': '95 ', '2017 Vieux Chateau Certan': '96 ', '2017 Chateau Canon': '94 ', '2017 Chateau Gruaud-Larose': '92 ', '2017 Chateau Rauzan-Segla': '93 ', '2017 Chateau Giscours': '92 ', '2017 Chateau Beychevelle': '93 ', '2017 Chateau Grand-Puy-Lacoste': '92 ', '2017 Chateau Duhart-Milon': '91 ', '2017 Chateau Troplong Mondot': '93 ', '2017 Chateau La Fleur-Petrus': '94 ', '2017 Domaine de Chevalier': '93 ', '2017 Chateau La Conseillante': '94 ', \"2017 Baron Philippe de Rothschild Chateau d'Armailhac\": '91 ', '2017 Chateau Brane-Cantenac': '92 ', '2017 Chateau Clinet': '92 ', '2017 Chateau Haut-Bailly': '94 ', '2017 Chateau Trotanoy': '95 ', '2017 Chateau Clerc-Milon': '92 ', \"2017 Chateau d'Issan\": '91 ', '2017 Chateau Sociando-Mallet': '90 ', '2017 Chateau Gloria': '90 ', '2017 Chateau Phelan Segur': '91 ', '2017 Chateau Gazin Pomerol': '91 ', '2017 Chateau Canon la Gaffeliere': '93 ', '2017 Chateau Les Carmes Haut-Brion': '94 ', '2017 Chateau Lafon-Rochet': '91 ', \"2017 Chateau Pichon Longueville Comtesse de Lalande 'Pichon Comtesse Reserve'\": '91 ', '2017 Chateau Chasse-Spleen': '88 ', \"2017 Chateau Leoville-Las Cases 'Clos du Marquis'\": '92 ', '2017 Le Clarence de Haut-Brion - Chateau Bahans Haut-Brion': '91 ', '2017 Chateau Latour Le Pauillac de Latour': '90 ', 'Chateau Mouton Rothschild': '96 ', 'Chateau Lafite Rothschild': '95 ', 'Petrus': '96 ', 'Chateau Margaux': '96 ', 'Chateau Latour': '96 ', 'Chateau Haut-Brion': '96 ', \"Chateau d'Yquem\": '96 ', 'Chateau Pontet-Canet': '95 ', 'Chateau Lynch-Bages': '93 ', 'Chateau Cheval Blanc': '95 ', 'Chateau Pichon Longueville Comtesse de Lalande': '94 '}\n",
      "Finding wines\n",
      "Looping through wines\n",
      "{'2017 Chateau Mouton Rothschild': '95 ', '2017 Petrus': '96 ', '2017 Chateau Haut-Brion': '95 ', '2017 Chateau Lynch-Bages': '93 ', '2017 Chateau Cheval Blanc': '95 ', '2017 Chateau Pichon Longueville Comtesse de Lalande': '95 ', \"2017 Chateau Leoville-Las Cases 'Grand Vin de Leoville'\": '95 ', '2017 Chateau Montrose': '94 ', '2017 Chateau Palmer': '95 ', '2017 Chateau Ducru-Beaucaillou': '95 ', '2017 Chateau Leoville Poyferre': '94 ', '2017 Chateau Pichon-Longueville au Baron de Pichon-Longueville': '94 ', '2017 Chateau La Mission Haut-Brion': '95 ', '2017 Chateau Leoville Barton': '94 ', '2017 Chateau Figeac': '95 ', '2017 Chateau Talbot': '91 ', '2017 Chateau Calon-Segur': '94 ', '2017 Chateau Lafleur': '97 ', '2017 Chateau Ausone': '95 ', '2017 Vieux Chateau Certan': '96 ', '2017 Chateau Canon': '94 ', '2017 Chateau Gruaud-Larose': '92 ', '2017 Chateau Rauzan-Segla': '93 ', '2017 Chateau Giscours': '92 ', '2017 Chateau Beychevelle': '93 ', '2017 Chateau Grand-Puy-Lacoste': '92 ', '2017 Chateau Duhart-Milon': '91 ', '2017 Chateau Troplong Mondot': '93 ', '2017 Chateau La Fleur-Petrus': '94 ', '2017 Domaine de Chevalier': '93 ', '2017 Chateau La Conseillante': '94 ', \"2017 Baron Philippe de Rothschild Chateau d'Armailhac\": '91 ', '2017 Chateau Brane-Cantenac': '92 ', '2017 Chateau Clinet': '92 ', '2017 Chateau Haut-Bailly': '94 ', '2017 Chateau Trotanoy': '95 ', '2017 Chateau Clerc-Milon': '92 ', \"2017 Chateau d'Issan\": '91 ', '2017 Chateau Sociando-Mallet': '90 ', '2017 Chateau Gloria': '90 ', '2017 Chateau Phelan Segur': '91 ', '2017 Chateau Gazin Pomerol': '91 ', '2017 Chateau Canon la Gaffeliere': '93 ', '2017 Chateau Les Carmes Haut-Brion': '94 ', '2017 Chateau Lafon-Rochet': '91 ', \"2017 Chateau Pichon Longueville Comtesse de Lalande 'Pichon Comtesse Reserve'\": '91 ', '2017 Chateau Chasse-Spleen': '88 ', \"2017 Chateau Leoville-Las Cases 'Clos du Marquis'\": '92 ', '2017 Le Clarence de Haut-Brion - Chateau Bahans Haut-Brion': '91 ', '2017 Chateau Latour Le Pauillac de Latour': '90 ', 'Chateau Mouton Rothschild': '96 ', 'Chateau Lafite Rothschild': '95 ', 'Petrus': '96 ', 'Chateau Margaux': '96 ', 'Chateau Latour': '96 ', 'Chateau Haut-Brion': '96 ', \"Chateau d'Yquem\": '96 ', 'Chateau Pontet-Canet': '95 ', 'Chateau Lynch-Bages': '93 ', 'Chateau Cheval Blanc': '95 ', 'Chateau Pichon Longueville Comtesse de Lalande': '94 ', '2018 Chateau Margaux': '97 ', \"2018 Chateau d'Yquem\": '96 ', '2018 Chateau Lynch-Bages': '95 ', '2018 Chateau Pichon Longueville Comtesse de Lalande': '96 ', \"2018 Chateau Cos d'Estournel\": '96 ', \"2018 Chateau Leoville-Las Cases 'Grand Vin de Leoville'\": '97 ', '2018 Chateau Montrose': '96 ', '2018 Chateau Palmer': '96 ', '2018 Chateau Ducru-Beaucaillou': '96 ', '2018 Chateau Leoville Poyferre': '95 ', '2018 Chateau Pichon-Longueville au Baron de Pichon-Longueville': '96 ', '2018 Chateau La Mission Haut-Brion': '96 ', '2018 Chateau Angelus': '96 ', '2018 Chateau Leoville Barton': '95 ', '2018 Chateau Figeac': '97 ', '2018 Chateau Talbot': '93 ', '2018 Chateau Smith Haut Lafitte': '95 ', '2018 Chateau Calon-Segur': '95 ', '2018 Chateau Pape Clement': '94 ', '2018 Chateau Ausone': '97 ', '2018 Vieux Chateau Certan': '97 ', '2018 Chateau Canon': '96 ', '2018 Chateau Gruaud-Larose': '93 ', '2018 Chateau Branaire-Ducru': '93 ', '2018 Chateau Rauzan-Segla': '95 ', '2018 Chateau Giscours': '93 ', '2018 Chateau Beychevelle': '94 ', '2018 Chateau Grand-Puy-Lacoste': '93 ', '2018 Chateau Duhart-Milon': '93 ', '2018 Chateau Troplong Mondot': '94 ', '2018 Chateau La Fleur-Petrus': '94 ', '2018 Domaine de Chevalier': '94 ', '2018 Chateau La Conseillante': '95 ', '2018 Chateau Lagrange': '93 ', \"2018 Baron Philippe de Rothschild Chateau d'Armailhac\": '92 ', '2018 Chateau Brane-Cantenac': '94 ', '2018 Chateau Cantemerle': '90 ', '2018 Chateau Clinet': '94 ', '2018 Chateau Haut-Bailly': '95 ', '2018 Chateau Trotanoy': '96 ', '2018 Pavillon Rouge du Chateau Margaux': '93 ', '2018 Chateau Clerc-Milon': '94 ', \"2018 Chateau d'Issan\": '93 ', '2018 Chateau Sociando-Mallet': '91 ', '2018 Chateau Gloria': '92 ', '2018 Chateau Phelan Segur': '92 ', '2018 Chateau Gazin Pomerol': '94 ', '2018 Chateau Canon la Gaffeliere': '94 ', '2018 Chateau Les Carmes Haut-Brion': '96 ', '2018 Chateau Lafon-Rochet': '92 '}\n",
      "Finding wines\n",
      "Looping through wines\n",
      "{'2017 Chateau Mouton Rothschild': '95 ', '2017 Petrus': '96 ', '2017 Chateau Haut-Brion': '95 ', '2017 Chateau Lynch-Bages': '93 ', '2017 Chateau Cheval Blanc': '95 ', '2017 Chateau Pichon Longueville Comtesse de Lalande': '95 ', \"2017 Chateau Leoville-Las Cases 'Grand Vin de Leoville'\": '95 ', '2017 Chateau Montrose': '94 ', '2017 Chateau Palmer': '95 ', '2017 Chateau Ducru-Beaucaillou': '95 ', '2017 Chateau Leoville Poyferre': '94 ', '2017 Chateau Pichon-Longueville au Baron de Pichon-Longueville': '94 ', '2017 Chateau La Mission Haut-Brion': '95 ', '2017 Chateau Leoville Barton': '94 ', '2017 Chateau Figeac': '95 ', '2017 Chateau Talbot': '91 ', '2017 Chateau Calon-Segur': '94 ', '2017 Chateau Lafleur': '97 ', '2017 Chateau Ausone': '95 ', '2017 Vieux Chateau Certan': '96 ', '2017 Chateau Canon': '94 ', '2017 Chateau Gruaud-Larose': '92 ', '2017 Chateau Rauzan-Segla': '93 ', '2017 Chateau Giscours': '92 ', '2017 Chateau Beychevelle': '93 ', '2017 Chateau Grand-Puy-Lacoste': '92 ', '2017 Chateau Duhart-Milon': '91 ', '2017 Chateau Troplong Mondot': '93 ', '2017 Chateau La Fleur-Petrus': '94 ', '2017 Domaine de Chevalier': '93 ', '2017 Chateau La Conseillante': '94 ', \"2017 Baron Philippe de Rothschild Chateau d'Armailhac\": '91 ', '2017 Chateau Brane-Cantenac': '92 ', '2017 Chateau Clinet': '92 ', '2017 Chateau Haut-Bailly': '94 ', '2017 Chateau Trotanoy': '95 ', '2017 Chateau Clerc-Milon': '92 ', \"2017 Chateau d'Issan\": '91 ', '2017 Chateau Sociando-Mallet': '90 ', '2017 Chateau Gloria': '90 ', '2017 Chateau Phelan Segur': '91 ', '2017 Chateau Gazin Pomerol': '91 ', '2017 Chateau Canon la Gaffeliere': '93 ', '2017 Chateau Les Carmes Haut-Brion': '94 ', '2017 Chateau Lafon-Rochet': '91 ', \"2017 Chateau Pichon Longueville Comtesse de Lalande 'Pichon Comtesse Reserve'\": '91 ', '2017 Chateau Chasse-Spleen': '88 ', \"2017 Chateau Leoville-Las Cases 'Clos du Marquis'\": '92 ', '2017 Le Clarence de Haut-Brion - Chateau Bahans Haut-Brion': '91 ', '2017 Chateau Latour Le Pauillac de Latour': '90 ', 'Chateau Mouton Rothschild': '96 ', 'Chateau Lafite Rothschild': '95 ', 'Petrus': '96 ', 'Chateau Margaux': '96 ', 'Chateau Latour': '96 ', 'Chateau Haut-Brion': '96 ', \"Chateau d'Yquem\": '96 ', 'Chateau Pontet-Canet': '95 ', 'Chateau Lynch-Bages': '93 ', 'Chateau Cheval Blanc': '95 ', 'Chateau Pichon Longueville Comtesse de Lalande': '94 ', '2018 Chateau Margaux': '97 ', \"2018 Chateau d'Yquem\": '96 ', '2018 Chateau Lynch-Bages': '95 ', '2018 Chateau Pichon Longueville Comtesse de Lalande': '96 ', \"2018 Chateau Cos d'Estournel\": '96 ', \"2018 Chateau Leoville-Las Cases 'Grand Vin de Leoville'\": '97 ', '2018 Chateau Montrose': '96 ', '2018 Chateau Palmer': '96 ', '2018 Chateau Ducru-Beaucaillou': '96 ', '2018 Chateau Leoville Poyferre': '95 ', '2018 Chateau Pichon-Longueville au Baron de Pichon-Longueville': '96 ', '2018 Chateau La Mission Haut-Brion': '96 ', '2018 Chateau Angelus': '96 ', '2018 Chateau Leoville Barton': '95 ', '2018 Chateau Figeac': '97 ', '2018 Chateau Talbot': '93 ', '2018 Chateau Smith Haut Lafitte': '95 ', '2018 Chateau Calon-Segur': '95 ', '2018 Chateau Pape Clement': '94 ', '2018 Chateau Ausone': '97 ', '2018 Vieux Chateau Certan': '97 ', '2018 Chateau Canon': '96 ', '2018 Chateau Gruaud-Larose': '93 ', '2018 Chateau Branaire-Ducru': '93 ', '2018 Chateau Rauzan-Segla': '95 ', '2018 Chateau Giscours': '93 ', '2018 Chateau Beychevelle': '94 ', '2018 Chateau Grand-Puy-Lacoste': '93 ', '2018 Chateau Duhart-Milon': '93 ', '2018 Chateau Troplong Mondot': '94 ', '2018 Chateau La Fleur-Petrus': '94 ', '2018 Domaine de Chevalier': '94 ', '2018 Chateau La Conseillante': '95 ', '2018 Chateau Lagrange': '93 ', \"2018 Baron Philippe de Rothschild Chateau d'Armailhac\": '92 ', '2018 Chateau Brane-Cantenac': '94 ', '2018 Chateau Cantemerle': '90 ', '2018 Chateau Clinet': '94 ', '2018 Chateau Haut-Bailly': '95 ', '2018 Chateau Trotanoy': '96 ', '2018 Pavillon Rouge du Chateau Margaux': '93 ', '2018 Chateau Clerc-Milon': '94 ', \"2018 Chateau d'Issan\": '93 ', '2018 Chateau Sociando-Mallet': '91 ', '2018 Chateau Gloria': '92 ', '2018 Chateau Phelan Segur': '92 ', '2018 Chateau Gazin Pomerol': '94 ', '2018 Chateau Canon la Gaffeliere': '94 ', '2018 Chateau Les Carmes Haut-Brion': '96 ', '2018 Chateau Lafon-Rochet': '92 ', '2019 Chateau Mouton Rothschild': '98 ', '2019 Chateau Haut-Brion': '97 ', '2019 Chateau Lynch-Bages': '95 ', '2019 Chateau Pichon Longueville Comtesse de Lalande': '97 ', '2019 Chateau Montrose': '96 ', '2019 Chateau Pichon-Longueville au Baron de Pichon-Longueville': '96 ', '2019 Chateau Talbot': '93 ', '2019 Chateau Branaire-Ducru': '93 ', '2019 Chateau Rauzan-Segla': '95 ', '2019 Chateau Grand-Puy-Lacoste': '94 ', '2019 Chateau Lagrange': '93 ', '2019 Chateau Cantemerle': '90 ', '2019 Chateau Haut-Bailly': '95 ', '2019 Chateau Palmer Alter Ego de Palmer': '93 ', \"2019 Chateau Pichon Longueville Comtesse de Lalande 'Pichon Comtesse Reserve'\": '91 ', '2019 Chateau Chasse-Spleen': '90 ', \"2019 Chateau d'Yquem 'Y' Ygrec\": '94 ', '2019 Chateau Langoa-Barton': '92 ', '2019 Le Petit Mouton de Mouton Rothschild': '93 ', '2019 Chateau Haut-Batailley': '93 ', '2019 Chateau Montrose La Dame de Montrose': '92 ', '2019 Domaine de Chevalier Blanc': '94 ', '2019 Chateau Laroque': '93 ', '2019 Chateau Potensac': '91 ', '2019 Echo de Lynch Bages Chateau Haut-Bages Averous': '92 ', '2019 Chateau le Puy Cuvee Emilien': 0, '2019 Chateau Calon-Segur Marquis de Calon': '91 ', '2019 Chateau Carbonnieux Blanc': '91 ', '2019 Chateau La Pointe': '90 ', '2019 Chateau Latour-Martillac Blanc': '91 ', '2019 Chateau La Grave a Pomerol Trigant de Boisset': '91 ', '2019 Chateau Puygueraud': '90 ', '2019 Chateau du Glana': '91 ', '2019 Chateau Siaurac': '89 ', '2019 Chateau Martet Reserve de Famille': '90 ', '2019 Chateau de la Dauphine': '91 ', \"2019 Chateau Guiraud 'Le G de Chateau Guiraud' Blanc Sec\": '88 ', '2019 Chateau Picque Caillou': '88 ', '2019 Chateau Coutet': '90 ', '2019 Cap Royal Bordeaux Superieur': '88 ', '2019 Chateau Peybonhomme Les Tours': '92 ', \"2019 Chateau Climens 'Asphodele' Grand Vin Blanc Sec\": '91 ', '2019 Dourthe No. 1': '89 ', '2019 Chateau Brown Blanc': '88 ', \"2019 Domaine de Chevalier L'Esprit de Chevalier Blanc\": '90 ', '2019 Clarendelle Blanc': 0, '2019 Chateau Bourdieu No. 1': '89 ', '2019 Chateau Rocher-Gardat': '88 ', '2019 Chateau Jean Faux': '89 ', '2019 Chateau Haut Selve': '90 '}\n",
      "Finding wines\n",
      "Looping through wines\n",
      "{'2017 Chateau Mouton Rothschild': '95 ', '2017 Petrus': '96 ', '2017 Chateau Haut-Brion': '95 ', '2017 Chateau Lynch-Bages': '93 ', '2017 Chateau Cheval Blanc': '95 ', '2017 Chateau Pichon Longueville Comtesse de Lalande': '95 ', \"2017 Chateau Leoville-Las Cases 'Grand Vin de Leoville'\": '95 ', '2017 Chateau Montrose': '94 ', '2017 Chateau Palmer': '95 ', '2017 Chateau Ducru-Beaucaillou': '95 ', '2017 Chateau Leoville Poyferre': '94 ', '2017 Chateau Pichon-Longueville au Baron de Pichon-Longueville': '94 ', '2017 Chateau La Mission Haut-Brion': '95 ', '2017 Chateau Leoville Barton': '94 ', '2017 Chateau Figeac': '95 ', '2017 Chateau Talbot': '91 ', '2017 Chateau Calon-Segur': '94 ', '2017 Chateau Lafleur': '97 ', '2017 Chateau Ausone': '95 ', '2017 Vieux Chateau Certan': '96 ', '2017 Chateau Canon': '94 ', '2017 Chateau Gruaud-Larose': '92 ', '2017 Chateau Rauzan-Segla': '93 ', '2017 Chateau Giscours': '92 ', '2017 Chateau Beychevelle': '93 ', '2017 Chateau Grand-Puy-Lacoste': '92 ', '2017 Chateau Duhart-Milon': '91 ', '2017 Chateau Troplong Mondot': '93 ', '2017 Chateau La Fleur-Petrus': '94 ', '2017 Domaine de Chevalier': '93 ', '2017 Chateau La Conseillante': '94 ', \"2017 Baron Philippe de Rothschild Chateau d'Armailhac\": '91 ', '2017 Chateau Brane-Cantenac': '92 ', '2017 Chateau Clinet': '92 ', '2017 Chateau Haut-Bailly': '94 ', '2017 Chateau Trotanoy': '95 ', '2017 Chateau Clerc-Milon': '92 ', \"2017 Chateau d'Issan\": '91 ', '2017 Chateau Sociando-Mallet': '90 ', '2017 Chateau Gloria': '90 ', '2017 Chateau Phelan Segur': '91 ', '2017 Chateau Gazin Pomerol': '91 ', '2017 Chateau Canon la Gaffeliere': '93 ', '2017 Chateau Les Carmes Haut-Brion': '94 ', '2017 Chateau Lafon-Rochet': '91 ', \"2017 Chateau Pichon Longueville Comtesse de Lalande 'Pichon Comtesse Reserve'\": '91 ', '2017 Chateau Chasse-Spleen': '88 ', \"2017 Chateau Leoville-Las Cases 'Clos du Marquis'\": '92 ', '2017 Le Clarence de Haut-Brion - Chateau Bahans Haut-Brion': '91 ', '2017 Chateau Latour Le Pauillac de Latour': '90 ', 'Chateau Mouton Rothschild': '96 ', 'Chateau Lafite Rothschild': '95 ', 'Petrus': '96 ', 'Chateau Margaux': '96 ', 'Chateau Latour': '96 ', 'Chateau Haut-Brion': '96 ', \"Chateau d'Yquem\": '96 ', 'Chateau Pontet-Canet': '95 ', 'Chateau Lynch-Bages': '93 ', 'Chateau Cheval Blanc': '95 ', 'Chateau Pichon Longueville Comtesse de Lalande': '94 ', '2018 Chateau Margaux': '97 ', \"2018 Chateau d'Yquem\": '96 ', '2018 Chateau Lynch-Bages': '95 ', '2018 Chateau Pichon Longueville Comtesse de Lalande': '96 ', \"2018 Chateau Cos d'Estournel\": '96 ', \"2018 Chateau Leoville-Las Cases 'Grand Vin de Leoville'\": '97 ', '2018 Chateau Montrose': '96 ', '2018 Chateau Palmer': '96 ', '2018 Chateau Ducru-Beaucaillou': '96 ', '2018 Chateau Leoville Poyferre': '95 ', '2018 Chateau Pichon-Longueville au Baron de Pichon-Longueville': '96 ', '2018 Chateau La Mission Haut-Brion': '96 ', '2018 Chateau Angelus': '96 ', '2018 Chateau Leoville Barton': '95 ', '2018 Chateau Figeac': '97 ', '2018 Chateau Talbot': '93 ', '2018 Chateau Smith Haut Lafitte': '95 ', '2018 Chateau Calon-Segur': '95 ', '2018 Chateau Pape Clement': '94 ', '2018 Chateau Ausone': '97 ', '2018 Vieux Chateau Certan': '97 ', '2018 Chateau Canon': '96 ', '2018 Chateau Gruaud-Larose': '93 ', '2018 Chateau Branaire-Ducru': '93 ', '2018 Chateau Rauzan-Segla': '95 ', '2018 Chateau Giscours': '93 ', '2018 Chateau Beychevelle': '94 ', '2018 Chateau Grand-Puy-Lacoste': '93 ', '2018 Chateau Duhart-Milon': '93 ', '2018 Chateau Troplong Mondot': '94 ', '2018 Chateau La Fleur-Petrus': '94 ', '2018 Domaine de Chevalier': '94 ', '2018 Chateau La Conseillante': '95 ', '2018 Chateau Lagrange': '93 ', \"2018 Baron Philippe de Rothschild Chateau d'Armailhac\": '92 ', '2018 Chateau Brane-Cantenac': '94 ', '2018 Chateau Cantemerle': '90 ', '2018 Chateau Clinet': '94 ', '2018 Chateau Haut-Bailly': '95 ', '2018 Chateau Trotanoy': '96 ', '2018 Pavillon Rouge du Chateau Margaux': '93 ', '2018 Chateau Clerc-Milon': '94 ', \"2018 Chateau d'Issan\": '93 ', '2018 Chateau Sociando-Mallet': '91 ', '2018 Chateau Gloria': '92 ', '2018 Chateau Phelan Segur': '92 ', '2018 Chateau Gazin Pomerol': '94 ', '2018 Chateau Canon la Gaffeliere': '94 ', '2018 Chateau Les Carmes Haut-Brion': '96 ', '2018 Chateau Lafon-Rochet': '92 ', '2019 Chateau Mouton Rothschild': '98 ', '2019 Chateau Haut-Brion': '97 ', '2019 Chateau Lynch-Bages': '95 ', '2019 Chateau Pichon Longueville Comtesse de Lalande': '97 ', '2019 Chateau Montrose': '96 ', '2019 Chateau Pichon-Longueville au Baron de Pichon-Longueville': '96 ', '2019 Chateau Talbot': '93 ', '2019 Chateau Branaire-Ducru': '93 ', '2019 Chateau Rauzan-Segla': '95 ', '2019 Chateau Grand-Puy-Lacoste': '94 ', '2019 Chateau Lagrange': '93 ', '2019 Chateau Cantemerle': '90 ', '2019 Chateau Haut-Bailly': '95 ', '2019 Chateau Palmer Alter Ego de Palmer': '93 ', \"2019 Chateau Pichon Longueville Comtesse de Lalande 'Pichon Comtesse Reserve'\": '91 ', '2019 Chateau Chasse-Spleen': '90 ', \"2019 Chateau d'Yquem 'Y' Ygrec\": '94 ', '2019 Chateau Langoa-Barton': '92 ', '2019 Le Petit Mouton de Mouton Rothschild': '93 ', '2019 Chateau Haut-Batailley': '93 ', '2019 Chateau Montrose La Dame de Montrose': '92 ', '2019 Domaine de Chevalier Blanc': '94 ', '2019 Chateau Laroque': '93 ', '2019 Chateau Potensac': '91 ', '2019 Echo de Lynch Bages Chateau Haut-Bages Averous': '92 ', '2019 Chateau le Puy Cuvee Emilien': 0, '2019 Chateau Calon-Segur Marquis de Calon': '91 ', '2019 Chateau Carbonnieux Blanc': '91 ', '2019 Chateau La Pointe': '90 ', '2019 Chateau Latour-Martillac Blanc': '91 ', '2019 Chateau La Grave a Pomerol Trigant de Boisset': '91 ', '2019 Chateau Puygueraud': '90 ', '2019 Chateau du Glana': '91 ', '2019 Chateau Siaurac': '89 ', '2019 Chateau Martet Reserve de Famille': '90 ', '2019 Chateau de la Dauphine': '91 ', \"2019 Chateau Guiraud 'Le G de Chateau Guiraud' Blanc Sec\": '88 ', '2019 Chateau Picque Caillou': '88 ', '2019 Chateau Coutet': '90 ', '2019 Cap Royal Bordeaux Superieur': '88 ', '2019 Chateau Peybonhomme Les Tours': '92 ', \"2019 Chateau Climens 'Asphodele' Grand Vin Blanc Sec\": '91 ', '2019 Dourthe No. 1': '89 ', '2019 Chateau Brown Blanc': '88 ', \"2019 Domaine de Chevalier L'Esprit de Chevalier Blanc\": '90 ', '2019 Clarendelle Blanc': 0, '2019 Chateau Bourdieu No. 1': '89 ', '2019 Chateau Rocher-Gardat': '88 ', '2019 Chateau Jean Faux': '89 ', '2019 Chateau Haut Selve': '90 ', '2020 Chateau Carbonnieux': '91 ', \"2020 Chateau Guiraud 'Le G de Chateau Guiraud' Blanc Sec\": '88 ', '2020 Chateau Brane-Cantenac Blanc': '92 ', '2020 Vignobles Andre Lurton Chateau Bonnet Blanc': '87 ', '2020 Chateau Les Charmes-Godard Blanc': '90 ', '2020 Grand Bateau Blanc': 0, '2020 Chateau Dudon': 0, \"2020 Chateau Latour-Martillac 'Lagrave-Martillac' Blanc\": 0, '2020 Chateau Couronneau': 0, '2020 Chateau de Cranne': 0, '2020 Chateau Pontet Bayard': '89 ', '2020 Chateau Couronneau Blanc': '90 ', '2020 Dourthe Le Cardinal': 0, \"2020 Chateau des Annereaux 'Les Annereaux'\": 0, '2020 Les Oiseaux de Chantegrive La Purete': 0, '2020 Chateau Ferran Saint Pierre': 0, '2020 Chateau Ferran Saint Pierre Tucaou Blanc': 0}\n",
      "Finding wines\n",
      "Looping through wines\n",
      "{'2017 Chateau Mouton Rothschild': '95 ', '2017 Petrus': '96 ', '2017 Chateau Haut-Brion': '95 ', '2017 Chateau Lynch-Bages': '93 ', '2017 Chateau Cheval Blanc': '95 ', '2017 Chateau Pichon Longueville Comtesse de Lalande': '95 ', \"2017 Chateau Leoville-Las Cases 'Grand Vin de Leoville'\": '95 ', '2017 Chateau Montrose': '94 ', '2017 Chateau Palmer': '95 ', '2017 Chateau Ducru-Beaucaillou': '95 ', '2017 Chateau Leoville Poyferre': '94 ', '2017 Chateau Pichon-Longueville au Baron de Pichon-Longueville': '94 ', '2017 Chateau La Mission Haut-Brion': '95 ', '2017 Chateau Leoville Barton': '94 ', '2017 Chateau Figeac': '95 ', '2017 Chateau Talbot': '91 ', '2017 Chateau Calon-Segur': '94 ', '2017 Chateau Lafleur': '97 ', '2017 Chateau Ausone': '95 ', '2017 Vieux Chateau Certan': '96 ', '2017 Chateau Canon': '94 ', '2017 Chateau Gruaud-Larose': '92 ', '2017 Chateau Rauzan-Segla': '93 ', '2017 Chateau Giscours': '92 ', '2017 Chateau Beychevelle': '93 ', '2017 Chateau Grand-Puy-Lacoste': '92 ', '2017 Chateau Duhart-Milon': '91 ', '2017 Chateau Troplong Mondot': '93 ', '2017 Chateau La Fleur-Petrus': '94 ', '2017 Domaine de Chevalier': '93 ', '2017 Chateau La Conseillante': '94 ', \"2017 Baron Philippe de Rothschild Chateau d'Armailhac\": '91 ', '2017 Chateau Brane-Cantenac': '92 ', '2017 Chateau Clinet': '92 ', '2017 Chateau Haut-Bailly': '94 ', '2017 Chateau Trotanoy': '95 ', '2017 Chateau Clerc-Milon': '92 ', \"2017 Chateau d'Issan\": '91 ', '2017 Chateau Sociando-Mallet': '90 ', '2017 Chateau Gloria': '90 ', '2017 Chateau Phelan Segur': '91 ', '2017 Chateau Gazin Pomerol': '91 ', '2017 Chateau Canon la Gaffeliere': '93 ', '2017 Chateau Les Carmes Haut-Brion': '94 ', '2017 Chateau Lafon-Rochet': '91 ', \"2017 Chateau Pichon Longueville Comtesse de Lalande 'Pichon Comtesse Reserve'\": '91 ', '2017 Chateau Chasse-Spleen': '88 ', \"2017 Chateau Leoville-Las Cases 'Clos du Marquis'\": '92 ', '2017 Le Clarence de Haut-Brion - Chateau Bahans Haut-Brion': '91 ', '2017 Chateau Latour Le Pauillac de Latour': '90 ', 'Chateau Mouton Rothschild': '96 ', 'Chateau Lafite Rothschild': '95 ', 'Petrus': '96 ', 'Chateau Margaux': '96 ', 'Chateau Latour': '96 ', 'Chateau Haut-Brion': '96 ', \"Chateau d'Yquem\": '96 ', 'Chateau Pontet-Canet': '95 ', 'Chateau Lynch-Bages': '93 ', 'Chateau Cheval Blanc': '95 ', 'Chateau Pichon Longueville Comtesse de Lalande': '94 ', '2018 Chateau Margaux': '97 ', \"2018 Chateau d'Yquem\": '96 ', '2018 Chateau Lynch-Bages': '95 ', '2018 Chateau Pichon Longueville Comtesse de Lalande': '96 ', \"2018 Chateau Cos d'Estournel\": '96 ', \"2018 Chateau Leoville-Las Cases 'Grand Vin de Leoville'\": '97 ', '2018 Chateau Montrose': '96 ', '2018 Chateau Palmer': '96 ', '2018 Chateau Ducru-Beaucaillou': '96 ', '2018 Chateau Leoville Poyferre': '95 ', '2018 Chateau Pichon-Longueville au Baron de Pichon-Longueville': '96 ', '2018 Chateau La Mission Haut-Brion': '96 ', '2018 Chateau Angelus': '96 ', '2018 Chateau Leoville Barton': '95 ', '2018 Chateau Figeac': '97 ', '2018 Chateau Talbot': '93 ', '2018 Chateau Smith Haut Lafitte': '95 ', '2018 Chateau Calon-Segur': '95 ', '2018 Chateau Pape Clement': '94 ', '2018 Chateau Ausone': '97 ', '2018 Vieux Chateau Certan': '97 ', '2018 Chateau Canon': '96 ', '2018 Chateau Gruaud-Larose': '93 ', '2018 Chateau Branaire-Ducru': '93 ', '2018 Chateau Rauzan-Segla': '95 ', '2018 Chateau Giscours': '93 ', '2018 Chateau Beychevelle': '94 ', '2018 Chateau Grand-Puy-Lacoste': '93 ', '2018 Chateau Duhart-Milon': '93 ', '2018 Chateau Troplong Mondot': '94 ', '2018 Chateau La Fleur-Petrus': '94 ', '2018 Domaine de Chevalier': '94 ', '2018 Chateau La Conseillante': '95 ', '2018 Chateau Lagrange': '93 ', \"2018 Baron Philippe de Rothschild Chateau d'Armailhac\": '92 ', '2018 Chateau Brane-Cantenac': '94 ', '2018 Chateau Cantemerle': '90 ', '2018 Chateau Clinet': '94 ', '2018 Chateau Haut-Bailly': '95 ', '2018 Chateau Trotanoy': '96 ', '2018 Pavillon Rouge du Chateau Margaux': '93 ', '2018 Chateau Clerc-Milon': '94 ', \"2018 Chateau d'Issan\": '93 ', '2018 Chateau Sociando-Mallet': '91 ', '2018 Chateau Gloria': '92 ', '2018 Chateau Phelan Segur': '92 ', '2018 Chateau Gazin Pomerol': '94 ', '2018 Chateau Canon la Gaffeliere': '94 ', '2018 Chateau Les Carmes Haut-Brion': '96 ', '2018 Chateau Lafon-Rochet': '92 ', '2019 Chateau Mouton Rothschild': '98 ', '2019 Chateau Haut-Brion': '97 ', '2019 Chateau Lynch-Bages': '95 ', '2019 Chateau Pichon Longueville Comtesse de Lalande': '97 ', '2019 Chateau Montrose': '96 ', '2019 Chateau Pichon-Longueville au Baron de Pichon-Longueville': '96 ', '2019 Chateau Talbot': '93 ', '2019 Chateau Branaire-Ducru': '93 ', '2019 Chateau Rauzan-Segla': '95 ', '2019 Chateau Grand-Puy-Lacoste': '94 ', '2019 Chateau Lagrange': '93 ', '2019 Chateau Cantemerle': '90 ', '2019 Chateau Haut-Bailly': '95 ', '2019 Chateau Palmer Alter Ego de Palmer': '93 ', \"2019 Chateau Pichon Longueville Comtesse de Lalande 'Pichon Comtesse Reserve'\": '91 ', '2019 Chateau Chasse-Spleen': '90 ', \"2019 Chateau d'Yquem 'Y' Ygrec\": '94 ', '2019 Chateau Langoa-Barton': '92 ', '2019 Le Petit Mouton de Mouton Rothschild': '93 ', '2019 Chateau Haut-Batailley': '93 ', '2019 Chateau Montrose La Dame de Montrose': '92 ', '2019 Domaine de Chevalier Blanc': '94 ', '2019 Chateau Laroque': '93 ', '2019 Chateau Potensac': '91 ', '2019 Echo de Lynch Bages Chateau Haut-Bages Averous': '92 ', '2019 Chateau le Puy Cuvee Emilien': 0, '2019 Chateau Calon-Segur Marquis de Calon': '91 ', '2019 Chateau Carbonnieux Blanc': '91 ', '2019 Chateau La Pointe': '90 ', '2019 Chateau Latour-Martillac Blanc': '91 ', '2019 Chateau La Grave a Pomerol Trigant de Boisset': '91 ', '2019 Chateau Puygueraud': '90 ', '2019 Chateau du Glana': '91 ', '2019 Chateau Siaurac': '89 ', '2019 Chateau Martet Reserve de Famille': '90 ', '2019 Chateau de la Dauphine': '91 ', \"2019 Chateau Guiraud 'Le G de Chateau Guiraud' Blanc Sec\": '88 ', '2019 Chateau Picque Caillou': '88 ', '2019 Chateau Coutet': '90 ', '2019 Cap Royal Bordeaux Superieur': '88 ', '2019 Chateau Peybonhomme Les Tours': '92 ', \"2019 Chateau Climens 'Asphodele' Grand Vin Blanc Sec\": '91 ', '2019 Dourthe No. 1': '89 ', '2019 Chateau Brown Blanc': '88 ', \"2019 Domaine de Chevalier L'Esprit de Chevalier Blanc\": '90 ', '2019 Clarendelle Blanc': 0, '2019 Chateau Bourdieu No. 1': '89 ', '2019 Chateau Rocher-Gardat': '88 ', '2019 Chateau Jean Faux': '89 ', '2019 Chateau Haut Selve': '90 ', '2020 Chateau Carbonnieux': '91 ', \"2020 Chateau Guiraud 'Le G de Chateau Guiraud' Blanc Sec\": '88 ', '2020 Chateau Brane-Cantenac Blanc': '92 ', '2020 Vignobles Andre Lurton Chateau Bonnet Blanc': '87 ', '2020 Chateau Les Charmes-Godard Blanc': '90 ', '2020 Grand Bateau Blanc': 0, '2020 Chateau Dudon': 0, \"2020 Chateau Latour-Martillac 'Lagrave-Martillac' Blanc\": 0, '2020 Chateau Couronneau': 0, '2020 Chateau de Cranne': 0, '2020 Chateau Pontet Bayard': '89 ', '2020 Chateau Couronneau Blanc': '90 ', '2020 Dourthe Le Cardinal': 0, \"2020 Chateau des Annereaux 'Les Annereaux'\": 0, '2020 Les Oiseaux de Chantegrive La Purete': 0, '2020 Chateau Ferran Saint Pierre': 0, '2020 Chateau Ferran Saint Pierre Tucaou Blanc': 0, '2021 Vignobles Andre Lurton Chateau Bonnet Blanc': 0, '2021 Chateau Haut Peyruguet': 0, '2021 Dourthe No. 1 Blanc': '88 ', '2021 Domaine de Chevalier Le Rose de Chevalier': 0, '2021 Chateau Lamothe-Vincent Blanc': 0, \"2021 Chateau de l'Aubrade Entre-deux-Mers Blanc\": '86 ', '2021 Chateau Montfollet Le Valentin Blanc': 0, '2021 Vignobles Andre Lurton Chateau Bonnet Rose': '89 '}\n"
     ]
    }
   ],
   "source": [
    "\n",
    "# import library\n",
    "from bs4 import BeautifulSoup\n",
    "import requests\n",
    "from selenium import webdriver\n",
    "from selenium.webdriver.chrome.options import Options\n",
    "import pandas as pd\n",
    "import time\n",
    "\n",
    "\n",
    "agent = {\"User-Agent\":'Mozilla/5.0 (Macintosh; Intel Mac OS X 10_15_7) AppleWebKit/537.36 (KHTML, like Gecko) Chrome/105.0.0.0 Safari/537.36'}\n",
    "wines = {}\n",
    "\n",
    "# url = 'https://www.wine-searcher.com/find/riesling/2021'\n",
    "# req = requests.get(url, headers=agent)\n",
    "# content = req.text\n",
    "\n",
    "\n",
    "\n",
    "\n",
    "# DRIVER_PATH = r'/Users/magnusgreve/Downloads/chromedriver'\n",
    "# options = Options()\n",
    "# options.add_argument(\"--user-data-dir=chrome-data\") \n",
    "# options.headless = False\n",
    "# options.add_argument(\"--window-size=1920,1200\")\n",
    "# driver = webdriver.Chrome(options=options, executable_path=DRIVER_PATH)\n",
    "# time.sleep(5)\n",
    "\n",
    "\n",
    "for i in range(2017,2022):\n",
    "    response = requests.get(f\"https://www.wine-searcher.com/find/bordeax/{i}/norway\", headers=agent)\n",
    "    if not response.ok:\n",
    "        print(response.status_code)\n",
    "    else:\n",
    "        soup = BeautifulSoup(response.text)\n",
    "        print('Finding wines')\n",
    "        cards = soup.findAll(class_='card card-product')\n",
    "        print('Looping through wines')\n",
    "        for i in cards:\n",
    "            name = i.find(class_='card-product__name')\n",
    "            rating = i.find(class_='badge-rating badge badge-pill')\n",
    "            try:\n",
    "                wines[name.text.replace(\"\\n\", \"\")] = rating.text.split('/')[0]\n",
    "            except:\n",
    "                wines[name.text.replace(\"\\n\", \"\")] = 0\n",
    "        print(wines)\n",
    "        time.sleep(5)\n",
    "\n",
    "df = pd.DataFrame({'Wines': list(wines.keys()), 'Points': list(wines.values())})\n"
   ]
  },
  {
   "cell_type": "code",
   "execution_count": 4,
   "metadata": {},
   "outputs": [],
   "source": [
    "\n",
    "df.to_csv('2017.csv')"
   ]
  },
  {
   "cell_type": "code",
   "execution_count": 6,
   "metadata": {},
   "outputs": [],
   "source": [
    "df1 = pd.read_csv('databordeaux.csv')\n",
    "df2 = pd.read_csv('2017.csv')\n",
    "df3 = pd.read_csv('2010.csv')"
   ]
  },
  {
   "cell_type": "code",
   "execution_count": 9,
   "metadata": {},
   "outputs": [],
   "source": [
    "df1 = df1[['Wines', 'Points']]\n",
    "df2 = df2[['Wines', 'Points']]\n",
    "df3 = df3[['Wines', 'Points']]"
   ]
  },
  {
   "cell_type": "code",
   "execution_count": 14,
   "metadata": {},
   "outputs": [
    {
     "name": "stderr",
     "output_type": "stream",
     "text": [
      "/var/folders/b4/5w_zxjl95ql23z3g4v334ztc0000gn/T/ipykernel_6931/2407101422.py:1: FutureWarning: The frame.append method is deprecated and will be removed from pandas in a future version. Use pandas.concat instead.\n",
      "  df1.append(df3)\n"
     ]
    },
    {
     "data": {
      "text/html": [
       "<div>\n",
       "<style scoped>\n",
       "    .dataframe tbody tr th:only-of-type {\n",
       "        vertical-align: middle;\n",
       "    }\n",
       "\n",
       "    .dataframe tbody tr th {\n",
       "        vertical-align: top;\n",
       "    }\n",
       "\n",
       "    .dataframe thead th {\n",
       "        text-align: right;\n",
       "    }\n",
       "</style>\n",
       "<table border=\"1\" class=\"dataframe\">\n",
       "  <thead>\n",
       "    <tr style=\"text-align: right;\">\n",
       "      <th></th>\n",
       "      <th>Wines</th>\n",
       "      <th>Points</th>\n",
       "    </tr>\n",
       "  </thead>\n",
       "  <tbody>\n",
       "    <tr>\n",
       "      <th>0</th>\n",
       "      <td>2000 Chateau Mouton Rothschild</td>\n",
       "      <td>94</td>\n",
       "    </tr>\n",
       "    <tr>\n",
       "      <th>1</th>\n",
       "      <td>2000 Chateau Lafite Rothschild</td>\n",
       "      <td>96</td>\n",
       "    </tr>\n",
       "    <tr>\n",
       "      <th>2</th>\n",
       "      <td>2000 Petrus</td>\n",
       "      <td>97</td>\n",
       "    </tr>\n",
       "    <tr>\n",
       "      <th>3</th>\n",
       "      <td>2000 Chateau Margaux</td>\n",
       "      <td>97</td>\n",
       "    </tr>\n",
       "    <tr>\n",
       "      <th>4</th>\n",
       "      <td>2000 Chateau Latour</td>\n",
       "      <td>96</td>\n",
       "    </tr>\n",
       "    <tr>\n",
       "      <th>...</th>\n",
       "      <td>...</td>\n",
       "      <td>...</td>\n",
       "    </tr>\n",
       "    <tr>\n",
       "      <th>320</th>\n",
       "      <td>2017 Chateau Pichon Longueville Comtesse de La...</td>\n",
       "      <td>91</td>\n",
       "    </tr>\n",
       "    <tr>\n",
       "      <th>321</th>\n",
       "      <td>2017 Chateau Chasse-Spleen</td>\n",
       "      <td>88</td>\n",
       "    </tr>\n",
       "    <tr>\n",
       "      <th>322</th>\n",
       "      <td>2017 Chateau Leoville-Las Cases 'Clos du Marquis'</td>\n",
       "      <td>92</td>\n",
       "    </tr>\n",
       "    <tr>\n",
       "      <th>323</th>\n",
       "      <td>2017 Le Clarence de Haut-Brion - Chateau Bahan...</td>\n",
       "      <td>91</td>\n",
       "    </tr>\n",
       "    <tr>\n",
       "      <th>324</th>\n",
       "      <td>2017 Chateau Latour Le Pauillac de Latour</td>\n",
       "      <td>90</td>\n",
       "    </tr>\n",
       "  </tbody>\n",
       "</table>\n",
       "<p>836 rows × 2 columns</p>\n",
       "</div>"
      ],
      "text/plain": [
       "                                                 Wines  Points\n",
       "0                       2000 Chateau Mouton Rothschild      94\n",
       "1                       2000 Chateau Lafite Rothschild      96\n",
       "2                                          2000 Petrus      97\n",
       "3                                 2000 Chateau Margaux      97\n",
       "4                                  2000 Chateau Latour      96\n",
       "..                                                 ...     ...\n",
       "320  2017 Chateau Pichon Longueville Comtesse de La...      91\n",
       "321                         2017 Chateau Chasse-Spleen      88\n",
       "322  2017 Chateau Leoville-Las Cases 'Clos du Marquis'      92\n",
       "323  2017 Le Clarence de Haut-Brion - Chateau Bahan...      91\n",
       "324          2017 Chateau Latour Le Pauillac de Latour      90\n",
       "\n",
       "[836 rows x 2 columns]"
      ]
     },
     "execution_count": 14,
     "metadata": {},
     "output_type": "execute_result"
    }
   ],
   "source": []
  },
  {
   "cell_type": "code",
   "execution_count": 17,
   "metadata": {},
   "outputs": [
    {
     "name": "stderr",
     "output_type": "stream",
     "text": [
      "/var/folders/b4/5w_zxjl95ql23z3g4v334ztc0000gn/T/ipykernel_6931/948459739.py:1: FutureWarning: The frame.append method is deprecated and will be removed from pandas in a future version. Use pandas.concat instead.\n",
      "  df = df.append(df2)\n"
     ]
    }
   ],
   "source": []
  },
  {
   "cell_type": "code",
   "execution_count": 19,
   "metadata": {},
   "outputs": [],
   "source": [
    "df.to_csv('fullbordeauxdata.csv',index=False)"
   ]
  },
  {
   "cell_type": "code",
   "execution_count": null,
   "metadata": {},
   "outputs": [],
   "source": []
  }
 ],
 "metadata": {
  "kernelspec": {
   "display_name": "Python 3.9.1 64-bit",
   "language": "python",
   "name": "python3"
  },
  "language_info": {
   "codemirror_mode": {
    "name": "ipython",
    "version": 3
   },
   "file_extension": ".py",
   "mimetype": "text/x-python",
   "name": "python",
   "nbconvert_exporter": "python",
   "pygments_lexer": "ipython3",
   "version": "3.9.1"
  },
  "orig_nbformat": 4,
  "vscode": {
   "interpreter": {
    "hash": "397704579725e15f5c7cb49fe5f0341eb7531c82d19f2c29d197e8b64ab5776b"
   }
  }
 },
 "nbformat": 4,
 "nbformat_minor": 2
}
